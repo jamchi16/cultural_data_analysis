{
 "cells": [
  {
   "cell_type": "code",
   "execution_count": 68,
   "id": "db56b5a0-9f8b-405f-9e2e-a223114631bf",
   "metadata": {},
   "outputs": [],
   "source": [
    "from vaderSentiment.vaderSentiment import SentimentIntensityAnalyzer\n",
    "import pandas as pd\n",
    "import requests\n",
    "import time\n",
    "import json\n",
    "\n",
    "# Initialize VADER\n",
    "sentimentAnalyser = SentimentIntensityAnalyzer()"
   ]
  },
  {
   "cell_type": "code",
   "execution_count": 69,
   "id": "091ca093-a53b-41cf-9369-a6ac629ee2d3",
   "metadata": {},
   "outputs": [],
   "source": [
    "# Load in tweets\n",
    "file_names = [\n",
    "    '../Covid-19 Twitter Dataset (Apr-Jun 2020).csv',\n",
    "    '../Covid-19 Twitter Dataset (Apr-Jun 2021).csv',\n",
    "    '../Covid-19 Twitter Dataset (Aug-Sep 2020).csv'\n",
    "]\n",
    "\n",
    "# Combine csvs into one dataframe\n",
    "dfs = []\n",
    "for file_name in file_names:\n",
    "    df = pd.read_csv(file_name)\n",
    "    df_filtered = df[df['place'].notnull()]\n",
    "    dfs.append(df_filtered)\n",
    "combined_df = pd.concat(dfs, ignore_index=True)\n",
    "\n",
    "# Calculate sentiment scores\n",
    "combined_df['sentiment'] = df['original_text'].apply(lambda x: sentimentAnalyser.polarity_scores(str(x))['compound'])\n",
    "\n",
    "# Drop unnecessary columns\n",
    "filtered_df = combined_df[['place', 'original_text', 'sentiment', 'created_at']]\n",
    "\n",
    "# Drop rows with no sentiment\n",
    "filtered_df = filtered_df[filtered_df['sentiment'] != 0]\n",
    "\n",
    "# Save file\n",
    "filtered_df.to_csv('../covid_sentiment_data', index=False)\n"
   ]
  },
  {
   "cell_type": "code",
   "execution_count": null,
   "id": "ccc182f6-b086-4964-8a19-38108379a65c",
   "metadata": {},
   "outputs": [],
   "source": []
  }
 ],
 "metadata": {
  "kernelspec": {
   "display_name": "Python 3 (ipykernel)",
   "language": "python",
   "name": "python3"
  },
  "language_info": {
   "codemirror_mode": {
    "name": "ipython",
    "version": 3
   },
   "file_extension": ".py",
   "mimetype": "text/x-python",
   "name": "python",
   "nbconvert_exporter": "python",
   "pygments_lexer": "ipython3",
   "version": "3.11.5"
  }
 },
 "nbformat": 4,
 "nbformat_minor": 5
}
