{
 "cells": [
  {
   "cell_type": "code",
   "execution_count": 1,
   "id": "06999b95-8b07-4932-85e3-e4a359f4cca0",
   "metadata": {},
   "outputs": [],
   "source": [
    "from vaderSentiment.vaderSentiment import SentimentIntensityAnalyzer\n",
    "import pandas as pd\n",
    "pd.options.display.max_colwidth = 400\n",
    "\n",
    "# Initialize VADER so we can use it later\n",
    "sentimentAnalyser = SentimentIntensityAnalyzer()"
   ]
  },
  {
   "cell_type": "code",
   "execution_count": 6,
   "id": "a5fb8eb6-5b86-4404-ab24-413e4566efdb",
   "metadata": {},
   "outputs": [
    {
     "name": "stdout",
     "output_type": "stream",
     "text": [
      "'I like the Marvel movies' \n",
      "\n",
      "🙁 Negative Sentiment: 0.0 \n",
      "  \n",
      "😐 Neutral Sentiment: 0.361 \n",
      "\n",
      "😀 Positive Sentiment: 0.639 \n",
      "\n",
      "✨ Compound Sentiment: 0.6486 \n",
      "\n",
      "--- \n",
      "\n",
      "'I don't like the Marvel movies' \n",
      "\n",
      "🙁 Negative Sentiment: 0.526 \n",
      "  \n",
      "😐 Neutral Sentiment: 0.474 \n",
      "\n",
      "😀 Positive Sentiment: 0.0 \n",
      "\n",
      "✨ Compound Sentiment: -0.5334 \n",
      "\n",
      "--- \n",
      "\n",
      "'I despise the Marvel movies with every fiber of my being' \n",
      "\n",
      "🙁 Negative Sentiment: 0.169 \n",
      "  \n",
      "😐 Neutral Sentiment: 0.634 \n",
      "\n",
      "😀 Positive Sentiment: 0.197 \n",
      "\n",
      "✨ Compound Sentiment: 0.1027 \n",
      "\n",
      "--- \n",
      "\n",
      "'I don't *not* live the Marvel movies' \n",
      "\n",
      "🙁 Negative Sentiment: 0.28 \n",
      "  \n",
      "😐 Neutral Sentiment: 0.72 \n",
      "\n",
      "😀 Positive Sentiment: 0.0 \n",
      "\n",
      "✨ Compound Sentiment: -0.3252 \n",
      "\n",
      "--- \n",
      "\n"
     ]
    }
   ],
   "source": [
    "# List of sentences\n",
    "sentences = [\"I like the Marvel movies\",\n",
    "             \"I don't like the Marvel movies\",\n",
    "             \"I despise the Marvel movies with every fiber of my being\",\n",
    "             \"I don't *not* live the Marvel movies\"]\n",
    "\n",
    "# Loop through list of sentences\n",
    "for sentence in sentences:\n",
    "    # Run VADER on each sentence\n",
    "    sentiment_scores = sentimentAnalyser.polarity_scores(sentence)\n",
    "    \n",
    "    # Print scores for each sentence\n",
    "    print(f\"\"\"'{sentence}' \\n\n",
    "🙁 Negative Sentiment: {sentiment_scores['neg']} \\n  \n",
    "😐 Neutral Sentiment: {sentiment_scores['neu']} \\n\n",
    "😀 Positive Sentiment: {sentiment_scores['pos']} \\n\n",
    "✨ Compound Sentiment: {sentiment_scores['compound']} \\n\n",
    "--- \\n\"\"\")"
   ]
  },
  {
   "cell_type": "code",
   "execution_count": null,
   "id": "af519bef-89fd-4c5a-af56-f3cfd17428d2",
   "metadata": {},
   "outputs": [],
   "source": []
  }
 ],
 "metadata": {
  "kernelspec": {
   "display_name": "Python 3 (ipykernel)",
   "language": "python",
   "name": "python3"
  },
  "language_info": {
   "codemirror_mode": {
    "name": "ipython",
    "version": 3
   },
   "file_extension": ".py",
   "mimetype": "text/x-python",
   "name": "python",
   "nbconvert_exporter": "python",
   "pygments_lexer": "ipython3",
   "version": "3.11.5"
  }
 },
 "nbformat": 4,
 "nbformat_minor": 5
}
